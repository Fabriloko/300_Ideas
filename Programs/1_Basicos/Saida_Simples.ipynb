{
 "cells": [
  {
   "cell_type": "markdown",
   "metadata": {},
   "source": [
    "### Bibliotecas Usadas"
   ]
  },
  {
   "cell_type": "code",
   "execution_count": 3,
   "metadata": {},
   "outputs": [],
   "source": [
    "import os"
   ]
  },
  {
   "cell_type": "markdown",
   "metadata": {},
   "source": [
    "# 1.1. Saída Simples"
   ]
  },
  {
   "cell_type": "markdown",
   "metadata": {},
   "source": [
    "### 1.1.1 Frase na Tela"
   ]
  },
  {
   "cell_type": "code",
   "execution_count": null,
   "metadata": {},
   "outputs": [
    {
     "name": "stdout",
     "output_type": "stream",
     "text": [
      "O primeiro programa a gente nunca esquece!\n"
     ]
    },
    {
     "data": {
      "text/plain": [
       "0"
      ]
     },
     "execution_count": 5,
     "metadata": {},
     "output_type": "execute_result"
    }
   ],
   "source": [
    "print(\"O primeiro programa a gente nunca esquece!\")"
   ]
  },
  {
   "cell_type": "markdown",
   "metadata": {},
   "source": [
    "### 1.1.2 Etiqueta"
   ]
  },
  {
   "cell_type": "code",
   "execution_count": 6,
   "metadata": {},
   "outputs": [
    {
     "name": "stdout",
     "output_type": "stream",
     "text": [
      "O seu nome é:  Fabricio Araujo Barbosa\n",
      "O seu endereço é:  Rua 6, 53, Novo Oriente, Maracanaú-CE\n",
      "O seu CEP é:  61921070\n"
     ]
    }
   ],
   "source": [
    "# os.system(\"cls\") # Comando para limpar a tela no Windows\n",
    "\n",
    "nome = input(\"Qual é o seu nome? \")\n",
    "endereco = input(\"Qual é o seu endereço? \")\n",
    "cep = input(\"Qual é o seu CEP? \")\n",
    "\n",
    "print(\"O seu nome é: \", nome)\n",
    "print(\"O seu endereço é: \", endereco)\n",
    "print(\"O seu CEP é: \", cep)"
   ]
  },
  {
   "cell_type": "markdown",
   "metadata": {},
   "source": [
    "### 1.1.3 Frases Assasinas"
   ]
  },
  {
   "cell_type": "code",
   "execution_count": 8,
   "metadata": {},
   "outputs": [
    {
     "name": "stdout",
     "output_type": "stream",
     "text": [
      "Isto não vai dar certo!\n",
      "Você nunca vai conseguir!\n",
      "Você é um fracassado!\n",
      "Você não é capaz!\n",
      "Esta tudo errado!\n",
      "Você não é bom o suficiente!\n"
     ]
    }
   ],
   "source": [
    "print(\"Isto não vai dar certo!\")\n",
    "print(\"Você nunca vai conseguir!\")\n",
    "print(\"Você é um fracassado!\")\n",
    "print(\"Você não é capaz!\")\n",
    "print(\"Esta tudo errado!\")\n",
    "print(\"Você não é bom o suficiente!\")\n"
   ]
  },
  {
   "cell_type": "markdown",
   "metadata": {},
   "source": [
    "### 1.1.4 Mensagem"
   ]
  },
  {
   "cell_type": "code",
   "execution_count": 10,
   "metadata": {},
   "outputs": [
    {
     "name": "stdout",
     "output_type": "stream",
     "text": [
      "Olá,  Fabricio Araujo Barbosa ! \n",
      " \n",
      "Seja bem-vindo ao mundo Python! \n",
      "tenho certeza que vai gostar e se divertir muito! \n",
      " \n",
      "Atenciosamente, \n",
      " \n",
      "O Autor\n"
     ]
    }
   ],
   "source": [
    "print(\"Olá, \", nome, \"! \\n \\nSeja bem-vindo ao mundo Python! \\ntenho certeza que vai gostar e se divertir muito! \\n \\nAtenciosamente, \\n \\nO Autor\")"
   ]
  },
  {
   "cell_type": "markdown",
   "metadata": {},
   "source": [
    "### 1.1.5 Ao mestre"
   ]
  },
  {
   "cell_type": "code",
   "execution_count": 11,
   "metadata": {},
   "outputs": [
    {
     "name": "stdout",
     "output_type": "stream",
     "text": [
      "Ao mestre \n",
      " \n",
      "Tenho como objetivo aprender Python e me tornar um programador de sucesso! \n",
      "Vou praticar até ficar familizado com a linguagem. \n",
      " \n",
      "Atenciosamente, \n",
      " \n",
      "O Aluno\n"
     ]
    }
   ],
   "source": [
    "print(\"Ao mestre \\n \\nTenho como objetivo aprender Python e me tornar um programador de sucesso! \\nVou praticar até ficar familizado com a linguagem. \\n \\nAtenciosamente, \\n \\nO Aluno\")"
   ]
  },
  {
   "cell_type": "markdown",
   "metadata": {},
   "source": [
    "### 1.1.6 Quadrado"
   ]
  },
  {
   "cell_type": "code",
   "execution_count": 12,
   "metadata": {},
   "outputs": [
    {
     "name": "stdout",
     "output_type": "stream",
     "text": [
      "XXXXX\n",
      "X   X\n",
      "X   X\n",
      "X   X\n",
      "XXXXX\n"
     ]
    }
   ],
   "source": [
    "print(\"XXXXX\\nX   X\\nX   X\\nX   X\\nXXXXX\")"
   ]
  },
  {
   "cell_type": "markdown",
   "metadata": {},
   "source": [
    "### 1.1.7 Tabela de notas"
   ]
  },
  {
   "cell_type": "code",
   "execution_count": 1,
   "metadata": {},
   "outputs": [
    {
     "name": "stdout",
     "output_type": "stream",
     "text": [
      "ALUNO(A)  NOTA\n",
      "========  ====\n",
      "Aline     9.0\n",
      "Mário     10.0\n",
      "Sérgio    4.5\n",
      "Shirley   7.0\n"
     ]
    }
   ],
   "source": [
    "print(\"ALUNO(A)  NOTA\")\n",
    "print(\"========  ====\")\n",
    "print(\"Aline     9.0\")\n",
    "print(\"Mário     10.0\")\n",
    "print(\"Sérgio    4.5\")\n",
    "print(\"Shirley   7.0\")"
   ]
  },
  {
   "cell_type": "markdown",
   "metadata": {},
   "source": [
    "### 1.1.8 Apresentação"
   ]
  },
  {
   "cell_type": "code",
   "execution_count": null,
   "metadata": {},
   "outputs": [
    {
     "name": "stdout",
     "output_type": "stream",
     "text": [
      "FOTOSSÍNTESE\n"
     ]
    },
    {
     "name": "stdout",
     "output_type": "stream",
     "text": [
      "A água e os sais minerais absorvidos pelas raízes sobem através dos vasos lenhosos do caule e chegam às folhas.\n",
      "Nas folhas, o gás carbônico absorvido do ar é transformado em oxigênio, graças à energia solar.\n",
      "Usando a energia solar, o gás carbônico e o hidrogênio contido na água retirada do solo, após complicadas reações químicas, a planta produz açúcares (glicose).\n"
     ]
    }
   ],
   "source": [
    "print(\"FOTOSSÍNTESE\")\n",
    "comando = input(\"Proximo Slide: \")\n",
    "if comando:\n",
    "    os.system(\"cls\")\n",
    "    comando = None\n",
    "\n",
    "print(\"A água e os sais minerais absorvidos pelas raízes sobem através dos vasos lenhosos do caule e chegam às folhas.\")\n",
    "comando = input(\"Proximo Slide: \")\n",
    "if comando:\n",
    "    os.system(\"cls\")\n",
    "    comando = None\n",
    "\n",
    "print(\"Nas folhas, o gás carbônico absorvido do ar é transformado em oxigênio, graças à energia solar.\")\n",
    "comando = input(\"Proximo Slide: \")\n",
    "if comando:\n",
    "    os.system(\"cls\")\n",
    "    comando = None\n",
    "\n",
    "print(\"Usando a energia solar, o gás carbônico e o hidrogênio contido na água retirada do solo, após complicadas reações químicas, a planta produz açúcares (glicose).\")"
   ]
  },
  {
   "cell_type": "markdown",
   "metadata": {},
   "source": [
    "### 1.1.9 Letra Grande"
   ]
  },
  {
   "cell_type": "code",
   "execution_count": 38,
   "metadata": {},
   "outputs": [
    {
     "name": "stdout",
     "output_type": "stream",
     "text": [
      "X   X\n",
      " X X\n",
      "  X\n",
      " X X\n",
      "X   X\n"
     ]
    }
   ],
   "source": [
    "print(\"X   X\\n X X\\n  X\\n X X\\nX   X\")"
   ]
  },
  {
   "cell_type": "markdown",
   "metadata": {},
   "source": [
    "### 1.1.10 Palavra Grande"
   ]
  },
  {
   "cell_type": "code",
   "execution_count": 55,
   "metadata": {},
   "outputs": [
    {
     "name": "stdout",
     "output_type": "stream",
     "text": [
      "********  ********  *       \n",
      "*         *      *  *       \n",
      "*         *      *  *       \n",
      "********  *      *  *       \n",
      "       *  *      *  *       \n",
      "       *  *      *  *       \n",
      "********  ********  ********\n"
     ]
    }
   ],
   "source": [
    "print(\"********  ********  *       \")\n",
    "print(\"*         *      *  *       \")\n",
    "print(\"*         *      *  *       \")\n",
    "print(\"********  *      *  *       \")\n",
    "print(\"       *  *      *  *       \")\n",
    "print(\"       *  *      *  *       \")\n",
    "print(\"********  ********  ********\")"
   ]
  },
  {
   "cell_type": "markdown",
   "metadata": {},
   "source": [
    "### 1.1.11 Desenho datilográfico"
   ]
  },
  {
   "cell_type": "code",
   "execution_count": 67,
   "metadata": {},
   "outputs": [
    {
     "name": "stdout",
     "output_type": "stream",
     "text": [
      "  ______  \n",
      " /      \\\n",
      "/  °   ° \\\n",
      "\\    ^   /\n",
      " \\___~__/\n"
     ]
    }
   ],
   "source": [
    "print(\"  ______  \")\n",
    "print(\" /      \\\\\")\n",
    "print(\"/  °   ° \\\\\")\n",
    "print(\"\\\\    ^   /\")\n",
    "print(\" \\\\___~__/\")\n"
   ]
  },
  {
   "cell_type": "markdown",
   "metadata": {},
   "source": [
    "### 1.1.12 Emoticons"
   ]
  },
  {
   "cell_type": "code",
   "execution_count": 70,
   "metadata": {},
   "outputs": [
    {
     "name": "stdout",
     "output_type": "stream",
     "text": [
      ":-) sorriso\n",
      ":-D gargalhada\n",
      ":-( tristeza\n",
      ":-p mostrando a língua\n",
      ":-o espanto\n",
      "{:-) cabelo partido ao meio\n",
      ":-{ usa bigode\n",
      ":-* beijo\n",
      ":-)~ piscadela\n"
     ]
    }
   ],
   "source": [
    "print(\":-) sorriso\\n:-D gargalhada\\n:-( tristeza\\n:-p mostrando a língua\\n:-o espanto\\n\\\n",
    "{:-) cabelo partido ao meio\\n:-{ usa bigode\\n:-* beijo\\n:-)~ piscadela\")"
   ]
  },
  {
   "cell_type": "markdown",
   "metadata": {},
   "source": [
    "### 1.1.13 Prinheiro 1"
   ]
  },
  {
   "cell_type": "code",
   "execution_count": 82,
   "metadata": {},
   "outputs": [
    {
     "name": "stdout",
     "output_type": "stream",
     "text": [
      "      X\n",
      "     XXX\n",
      "    XXXXX\n",
      "   XXXXXXX\n",
      "  XXXXXXXXX\n",
      " XXXXXXXXXXXX\n",
      "XXXXXXXXXXXXXX\n",
      "      XX\n",
      "      XX\n",
      "     XXXX\n"
     ]
    }
   ],
   "source": [
    "print(\"      X\")\n",
    "print(\"     XXX\")\n",
    "print(\"    XXXXX\")\n",
    "print(\"   XXXXXXX\")\n",
    "print(\"  XXXXXXXXX\")\n",
    "print(\" XXXXXXXXXXXX\")\n",
    "print(\"XXXXXXXXXXXXXX\")\n",
    "print(\"      XX\")\n",
    "print(\"      XX\")\n",
    "print(\"     XXXX\")\n"
   ]
  },
  {
   "cell_type": "markdown",
   "metadata": {},
   "source": [
    "### 1.1.14 Pinheiro 2"
   ]
  },
  {
   "cell_type": "code",
   "execution_count": 83,
   "metadata": {},
   "outputs": [
    {
     "name": "stdout",
     "output_type": "stream",
     "text": [
      "      *\n",
      "     ***\n",
      "    *****\n",
      "   *******\n",
      "  *********\n",
      " ************\n",
      "**************\n",
      "      **\n",
      "      **\n",
      "     ****\n"
     ]
    }
   ],
   "source": [
    "print(\"      *\")\n",
    "print(\"     ***\")\n",
    "print(\"    *****\")\n",
    "print(\"   *******\")\n",
    "print(\"  *********\")\n",
    "print(\" ************\")\n",
    "print(\"**************\")\n",
    "print(\"      **\")\n",
    "print(\"      **\")\n",
    "print(\"     ****\")\n"
   ]
  },
  {
   "cell_type": "markdown",
   "metadata": {},
   "source": [
    "### 1.1.15 Menu"
   ]
  },
  {
   "cell_type": "code",
   "execution_count": 90,
   "metadata": {},
   "outputs": [
    {
     "name": "stdout",
     "output_type": "stream",
     "text": [
      "Cadastro de Clientes\n",
      "\n",
      "0 - Fim\n",
      "1 - Inclui\n",
      "2 - Altera\n",
      "3 - Exclui\n",
      "4 - Consulta\n",
      "\n",
      "Opção: 3 \n",
      "\n",
      "Exclui\n"
     ]
    }
   ],
   "source": [
    "print(\"Cadastro de Clientes\\n\")\n",
    "print(\"0 - Fim\")\n",
    "print(\"1 - Inclui\")\n",
    "print(\"2 - Altera\")\n",
    "print(\"3 - Exclui\")\n",
    "print(\"4 - Consulta\\n\")\n",
    "opcao = int(input(\"Digite uma opção: \"))\n",
    "\n",
    "print(\"Opção:\", opcao, \"\\n\")\n",
    "\n",
    "if opcao == 0:\n",
    "    print(\"Fim\")\n",
    "elif opcao == 1:\n",
    "    print(\"Inclui\")\n",
    "elif opcao == 2:\n",
    "    print(\"Altera\")\n",
    "elif opcao == 3:\n",
    "    print(\"Exclui\")\n",
    "elif opcao == 4:\n",
    "    print(\"Consulta\")\n",
    "else:\n",
    "    print(\"Opção Inválida\")\n"
   ]
  }
 ],
 "metadata": {
  "kernelspec": {
   "display_name": "Python 3",
   "language": "python",
   "name": "python3"
  },
  "language_info": {
   "codemirror_mode": {
    "name": "ipython",
    "version": 3
   },
   "file_extension": ".py",
   "mimetype": "text/x-python",
   "name": "python",
   "nbconvert_exporter": "python",
   "pygments_lexer": "ipython3",
   "version": "3.11.0"
  }
 },
 "nbformat": 4,
 "nbformat_minor": 2
}
