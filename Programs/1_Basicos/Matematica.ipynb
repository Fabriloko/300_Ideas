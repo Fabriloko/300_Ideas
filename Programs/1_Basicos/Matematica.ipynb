{
 "cells": [
  {
   "cell_type": "markdown",
   "metadata": {},
   "source": [
    "# 1.2 Matemática"
   ]
  },
  {
   "cell_type": "markdown",
   "metadata": {},
   "source": [
    "### 1.2.1 Expreções Aritméticas"
   ]
  },
  {
   "cell_type": "code",
   "execution_count": 2,
   "metadata": {},
   "outputs": [
    {
     "name": "stdout",
     "output_type": "stream",
     "text": [
      "2 * 6 + 11 * 5 = 67\n",
      "20 / (-2) / 5 = -2.0\n",
      "20 / 2 * 2 = 20.0\n",
      "(3 + 9) / 3 * 4 = 16.0\n",
      "(5 * 6 / (3 + 2) - 15 * 4) / 6 - 4 = -13.0\n",
      "4 + 32 * 2 - 7 * 2 / (9 - 2) = 66.0\n"
     ]
    }
   ],
   "source": [
    "e1 = 2*6 + 11*5\n",
    "e2 = 20/(-2)/5\n",
    "e3 = 20/2*2\n",
    "e4 = (3+9)/3*4\n",
    "e5 = (5*6/(3+2) - 15*4)/6-4\n",
    "e6 = 4+32*2 -7*2/(9-2)\n",
    "\n",
    "print(f\"2 * 6 + 11 * 5 = {e1}\")\n",
    "print(f\"20 / (-2) / 5 = {e2}\")\n",
    "print(f\"20 / 2 * 2 = {e3}\")\n",
    "print(f\"(3 + 9) / 3 * 4 = {e4}\")\n",
    "print(f\"(5 * 6 / (3 + 2) - 15 * 4) / 6 - 4 = {e5}\")\n",
    "print(f\"4 + 32 * 2 - 7 * 2 / (9 - 2) = {e6}\")\n"
   ]
  },
  {
   "cell_type": "markdown",
   "metadata": {},
   "source": [
    "### 1.2.2 Div e mod"
   ]
  },
  {
   "cell_type": "code",
   "execution_count": 5,
   "metadata": {},
   "outputs": [
    {
     "name": "stdout",
     "output_type": "stream",
     "text": [
      "37 mod 13 = 11\n",
      "41 div 7 = 5\n",
      "11 div 3 mod 2 = 1\n",
      "11 mod 3 div 2 = 1\n"
     ]
    }
   ],
   "source": [
    "e1 = 37 % 13\n",
    "e2 = 41 // 7\n",
    "e3 = 11 // 3 % 2\n",
    "e4 = 11 % 3 // 2\n",
    "\n",
    "print(f\"37 mod 13 = {e1}\")\n",
    "print(f\"41 div 7 = {e2}\")\n",
    "print(f\"11 div 3 mod 2 = {e3}\")\n",
    "print(f\"11 mod 3 div 2 = {e4}\")\n"
   ]
  },
  {
   "cell_type": "markdown",
   "metadata": {},
   "source": [
    "### 1.2.3 Conta Telefônica"
   ]
  },
  {
   "cell_type": "code",
   "execution_count": 7,
   "metadata": {},
   "outputs": [
    {
     "name": "stdout",
     "output_type": "stream",
     "text": [
      "Custo Assinatura: 17.90\n",
      "Custo Impulsos: 10.16\n",
      "Custo Interurbanos: 4.60\n",
      "Total a pagar: 66.95\n"
     ]
    }
   ],
   "source": [
    "assinatura = 17.90\n",
    "impulsos = 0.04 #por impulso que exceder a 90\n",
    "# interurbanos\n",
    "chamadas = 0.20 #por impulso\n",
    "total = 254 * impulsos + 34.29 + 23 * chamadas + 17.90\n",
    "\n",
    "print(f\"Custo Assinatura: {assinatura:.2f}\")\n",
    "print(f\"Custo Impulsos: {254 * impulsos:.2f}\")\n",
    "print(f\"Custo Interurbanos: {23 * chamadas:.2f}\")\n",
    "print(f\"Total a pagar: {total:.2f}\")\n"
   ]
  },
  {
   "cell_type": "markdown",
   "metadata": {},
   "source": [
    "### 1.2.4 Tempo Livre"
   ]
  },
  {
   "cell_type": "code",
   "execution_count": 9,
   "metadata": {},
   "outputs": [
    {
     "name": "stdout",
     "output_type": "stream",
     "text": [
      "Tempo por disciplina: 16 minutos\n",
      "Tempo livre: 4 minutos\n"
     ]
    }
   ],
   "source": [
    "disciplinas = 6\n",
    "t_disponivel = 100 #(minutos)\n",
    "\n",
    "print(f\"Tempo por disciplina: {t_disponivel // disciplinas} minutos\")\n",
    "print(f\"Tempo livre: {t_disponivel % disciplinas} minutos\")"
   ]
  },
  {
   "cell_type": "markdown",
   "metadata": {},
   "source": [
    "### 1.2.5 Otimização de Corte"
   ]
  },
  {
   "cell_type": "code",
   "execution_count": 11,
   "metadata": {},
   "outputs": [
    {
     "name": "stdout",
     "output_type": "stream",
     "text": [
      "Tabua de 300 cm: 6 peças de 45cm e 30 cm de sobra\n",
      "Tabua de 400 cm: 8 peças de 45cm e 40 cm de sobra\n",
      "Tabua de 500 cm: 11 peças de 45cm e 5 cm de sobra\n"
     ]
    }
   ],
   "source": [
    "p_madeira = 45 #centimentros\n",
    "tabuas = [300, 400, 500] #centimentros\n",
    "\n",
    "for t in tabuas:\n",
    "    print(f\"Tabua de {t} cm: {t // p_madeira} peças de 45cm e {t % p_madeira} cm de sobra\")"
   ]
  },
  {
   "cell_type": "markdown",
   "metadata": {},
   "source": [
    "### 1.2.6 Média de notas"
   ]
  },
  {
   "cell_type": "code",
   "execution_count": 18,
   "metadata": {},
   "outputs": [
    {
     "name": "stdout",
     "output_type": "stream",
     "text": [
      "=================\n",
      "|| média 7.62 ||\n",
      "=================\n"
     ]
    }
   ],
   "source": [
    "notas = [9.0, 10.0, 4.5, 7.0]\n",
    "print(\"=================\")\n",
    "print(f\"|| média {sum(notas) / len(notas):.2f} ||\")\n",
    "print(\"=================\")\n"
   ]
  },
  {
   "cell_type": "markdown",
   "metadata": {},
   "source": [
    "### 1.2.7 Conversão de Temperatura"
   ]
  },
  {
   "cell_type": "code",
   "execution_count": 10,
   "metadata": {},
   "outputs": [
    {
     "name": "stdout",
     "output_type": "stream",
     "text": [
      "Fahrenheit Celsius\n",
      "=================\n",
      "1 f = -17.22 ºc\n",
      "2 f = -16.67 ºc\n",
      "3 f = -16.11 ºc\n",
      "4 f = -15.56 ºc\n",
      "5 f = -15.00 ºc\n",
      "6 f = -14.44 ºc\n",
      "7 f = -13.89 ºc\n",
      "8 f = -13.33 ºc\n",
      "9 f = -12.78 ºc\n",
      "10 f = -12.22 ºc\n",
      "\n",
      "\n",
      "Celsius Fahrenheit\n",
      "=================\n",
      "1 ºc = 33.80 f\n",
      "2 ºc = 35.60 f\n",
      "3 ºc = 37.40 f\n",
      "4 ºc = 39.20 f\n",
      "5 ºc = 41.00 f\n",
      "6 ºc = 42.80 f\n",
      "7 ºc = 44.60 f\n",
      "8 ºc = 46.40 f\n",
      "9 ºc = 48.20 f\n",
      "10 ºc = 50.00 f\n"
     ]
    }
   ],
   "source": [
    "print(\"Fahrenheit Celsius\")\n",
    "print(\"=================\")\n",
    "\n",
    "for i in range(1, 11):\n",
    "    print(f\"{i} f = {5/9 * (i - 32):.2f} ºc\")\n",
    "print('\\n')\n",
    "print(\"Celsius Fahrenheit\")\n",
    "print(\"=================\")\n",
    "for i in range(1, 11):\n",
    "    print(f\"{i} ºc = {(9/5 * i) + 32:.2f} f\")\n"
   ]
  },
  {
   "cell_type": "markdown",
   "metadata": {},
   "source": [
    "### 1.2.8 Imposto"
   ]
  },
  {
   "cell_type": "code",
   "execution_count": 21,
   "metadata": {},
   "outputs": [
    {
     "name": "stdout",
     "output_type": "stream",
     "text": [
      "1201\n",
      "10% de Imposto\n",
      "Imposto Total: 120.10000000000001\n"
     ]
    }
   ],
   "source": [
    "valor = input('Valor a pagar:')\n",
    "\n",
    "if valor.isnumeric():\n",
    "    valor = int(valor)\n",
    "    if valor <= 1200:\n",
    "        print(\"Isento de imposto\")\n",
    "    elif valor <= 5000:\n",
    "        print(valor)\n",
    "        print(\"10% de Imposto\")\n",
    "        print(f\"Imposto Total: {valor * 0.1}\")\n",
    "    elif valor <= 10000:\n",
    "        print(\"15% de Imposto\")\n",
    "        print(f\"Imposto Total: {valor * 0.15}\")\n",
    "    elif valor > 10000:\n",
    "        print(valor)\n",
    "        print(\"20% de Imposto\")\n",
    "        print(f\"Imposto Total: {valor * 0.2}\")\n",
    "else:\n",
    "    print(\"Valor inválido\")\n",
    "\n"
   ]
  },
  {
   "cell_type": "markdown",
   "metadata": {},
   "source": [
    "### 1.2.9 Funções Matemáticas"
   ]
  },
  {
   "cell_type": "code",
   "execution_count": null,
   "metadata": {},
   "outputs": [],
   "source": []
  }
 ],
 "metadata": {
  "kernelspec": {
   "display_name": "Python 3",
   "language": "python",
   "name": "python3"
  },
  "language_info": {
   "codemirror_mode": {
    "name": "ipython",
    "version": 3
   },
   "file_extension": ".py",
   "mimetype": "text/x-python",
   "name": "python",
   "nbconvert_exporter": "python",
   "pygments_lexer": "ipython3",
   "version": "3.11.0"
  }
 },
 "nbformat": 4,
 "nbformat_minor": 2
}
