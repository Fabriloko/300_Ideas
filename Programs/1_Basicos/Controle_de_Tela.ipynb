{
 "cells": [
  {
   "cell_type": "markdown",
   "metadata": {},
   "source": [
    "# 1.3 Controle de Tela"
   ]
  },
  {
   "cell_type": "markdown",
   "metadata": {},
   "source": [
    "### 1.3.1 Quadrado posicionado"
   ]
  },
  {
   "cell_type": "code",
   "execution_count": 7,
   "metadata": {},
   "outputs": [
    {
     "name": "stdout",
     "output_type": "stream",
     "text": [
      "\u001b[7;20HXXXXXXXXXX\n",
      "\u001b[8;20HX        X\n",
      "\u001b[9;20HX        X\n",
      "\u001b[10;20HX        X\n",
      "\u001b[11;20HXXXXXXXXXX\n"
     ]
    }
   ],
   "source": [
    "print(\"\\033[7;20HXXXXXXXXXX\")\n",
    "print(\"\\033[8;20HX        X\")\n",
    "print(\"\\033[9;20HX        X\")\n",
    "print(\"\\033[10;20HX        X\")\n",
    "print(\"\\033[11;20HXXXXXXXXXX\")"
   ]
  },
  {
   "cell_type": "markdown",
   "metadata": {},
   "source": [
    "### 1.3.2 Menu Posicionada"
   ]
  },
  {
   "cell_type": "code",
   "execution_count": 12,
   "metadata": {},
   "outputs": [
    {
     "name": "stdout",
     "output_type": "stream",
     "text": [
      "\u001b[15;40HMeus Relatórios]\n",
      "\u001b[16;40H1 - Por Nome\n",
      "\u001b[17;40H2 - Por Código\n",
      "\u001b[18;40H3 - Por Data\n",
      "\u001b[19;40H4 - Por Tipo\n",
      "\u001b[20;40H5 - Fim\n"
     ]
    }
   ],
   "source": [
    "print(\"\\033[15;40HMeus Relatórios]\")\n",
    "print(\"\\033[16;40H1 - Por Nome\")\n",
    "print(\"\\033[17;40H2 - Por Código\")\n",
    "print(\"\\033[18;40H3 - Por Data\")\n",
    "print(\"\\033[19;40H4 - Por Tipo\")\n",
    "print(\"\\033[20;40H5 - Fim\")\n",
    "aux = input(\"\\033[20;30HOpção: \")"
   ]
  },
  {
   "cell_type": "markdown",
   "metadata": {},
   "source": [
    "### 1.3.3 Cruz"
   ]
  },
  {
   "cell_type": "code",
   "execution_count": 17,
   "metadata": {},
   "outputs": [
    {
     "name": "stdout",
     "output_type": "stream",
     "text": [
      "\u001b[5;40H#\n",
      "\u001b[6;40H#\n",
      "\u001b[7;40H#\n",
      "\u001b[8;40H#\n",
      "\u001b[9;40H#\n",
      "\u001b[10;40H#\n",
      "\u001b[11;40H#\n",
      "\u001b[12;40H#\n",
      "\u001b[13;40H#\n",
      "\u001b[14;40H#\n",
      "\u001b[15;40H#\n",
      "\u001b[16;40H#\n",
      "\u001b[17;40H#\n",
      "\u001b[18;40H#\n",
      "\u001b[19;40H#\n",
      "\u001b[20;40H#\n",
      "\u001b[20;31H=\n",
      "\u001b[20;32H=\n",
      "\u001b[20;33H=\n",
      "\u001b[20;34H=\n",
      "\u001b[20;35H=\n",
      "\u001b[20;36H=\n",
      "\u001b[20;37H=\n",
      "\u001b[20;38H=\n",
      "\u001b[20;39H=\n",
      "\u001b[20;40H=\n",
      "\u001b[20;41H=\n",
      "\u001b[20;42H=\n",
      "\u001b[20;43H=\n",
      "\u001b[20;44H=\n",
      "\u001b[20;45H=\n",
      "\u001b[20;46H=\n",
      "\u001b[20;47H=\n",
      "\u001b[20;48H=\n",
      "\u001b[20;49H=\n"
     ]
    }
   ],
   "source": [
    "for i in range(5,21):\n",
    "    print(f\"\\033[{i};40H#\")\n",
    "input(\"\")\n",
    "for i in range(31,50):\n",
    "    print(f\"\\033[20;{i}H=\")"
   ]
  },
  {
   "cell_type": "markdown",
   "metadata": {},
   "source": [
    "### 1.3.4 Triângulo com Iniciais"
   ]
  },
  {
   "cell_type": "code",
   "execution_count": null,
   "metadata": {},
   "outputs": [],
   "source": []
  }
 ],
 "metadata": {
  "kernelspec": {
   "display_name": "Python 3",
   "language": "python",
   "name": "python3"
  },
  "language_info": {
   "codemirror_mode": {
    "name": "ipython",
    "version": 3
   },
   "file_extension": ".py",
   "mimetype": "text/x-python",
   "name": "python",
   "nbconvert_exporter": "python",
   "pygments_lexer": "ipython3",
   "version": "3.11.0"
  }
 },
 "nbformat": 4,
 "nbformat_minor": 2
}
